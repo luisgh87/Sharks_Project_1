{
 "cells": [
  {
   "cell_type": "code",
   "execution_count": 32,
   "metadata": {},
   "outputs": [],
   "source": [
    "import pandas as pd\n",
    "import numpy as np\n",
    "import matplotlib.pyplot as plt\n",
    "import seaborn as sns\n",
    "\n",
    "    \n",
    "pd.set_option('display.max_columns', None)  # Mostrar todas las columnas\n",
    "pd.set_option('display.max_rows', None)  # Mostrar todas las filas\n",
    "pd.set_option('display.max_colwidth', None) # Mostrar el contenido completo de las celdas"
   ]
  },
  {
   "cell_type": "markdown",
   "metadata": {},
   "source": [
    "Una vez que hemos descargado todas las librerías necesarias para empezar nuestro proyecto de data cleansing, procederemos a importar el archivo attacks.csv para crear nuestro dataframe y visualizaremos el estado de los datos en la tabla."
   ]
  },
  {
   "cell_type": "code",
   "execution_count": 33,
   "metadata": {},
   "outputs": [
    {
     "data": {
      "text/html": [
       "<div>\n",
       "<style scoped>\n",
       "    .dataframe tbody tr th:only-of-type {\n",
       "        vertical-align: middle;\n",
       "    }\n",
       "\n",
       "    .dataframe tbody tr th {\n",
       "        vertical-align: top;\n",
       "    }\n",
       "\n",
       "    .dataframe thead th {\n",
       "        text-align: right;\n",
       "    }\n",
       "</style>\n",
       "<table border=\"1\" class=\"dataframe\">\n",
       "  <thead>\n",
       "    <tr style=\"text-align: right;\">\n",
       "      <th></th>\n",
       "      <th>Case Number</th>\n",
       "      <th>Date</th>\n",
       "      <th>Year</th>\n",
       "      <th>Type</th>\n",
       "      <th>Country</th>\n",
       "      <th>Area</th>\n",
       "      <th>Location</th>\n",
       "      <th>Activity</th>\n",
       "      <th>Name</th>\n",
       "      <th>Sex</th>\n",
       "      <th>Age</th>\n",
       "      <th>Injury</th>\n",
       "      <th>Fatal (Y/N)</th>\n",
       "      <th>Time</th>\n",
       "      <th>Species</th>\n",
       "      <th>Investigator or Source</th>\n",
       "      <th>pdf</th>\n",
       "      <th>href formula</th>\n",
       "      <th>href</th>\n",
       "      <th>Case Number.1</th>\n",
       "      <th>Case Number.2</th>\n",
       "      <th>original order</th>\n",
       "      <th>Unnamed: 22</th>\n",
       "      <th>Unnamed: 23</th>\n",
       "    </tr>\n",
       "  </thead>\n",
       "  <tbody>\n",
       "    <tr>\n",
       "      <th>0</th>\n",
       "      <td>2018.06.25</td>\n",
       "      <td>25-Jun-2018</td>\n",
       "      <td>2018.0</td>\n",
       "      <td>Boating</td>\n",
       "      <td>USA</td>\n",
       "      <td>California</td>\n",
       "      <td>Oceanside, San Diego County</td>\n",
       "      <td>Paddling</td>\n",
       "      <td>Julie Wolfe</td>\n",
       "      <td>F</td>\n",
       "      <td>57</td>\n",
       "      <td>No injury to occupant, outrigger canoe and paddle damaged</td>\n",
       "      <td>N</td>\n",
       "      <td>18h00</td>\n",
       "      <td>White shark</td>\n",
       "      <td>R. Collier, GSAF</td>\n",
       "      <td>2018.06.25-Wolfe.pdf</td>\n",
       "      <td>http://sharkattackfile.net/spreadsheets/pdf_directory/2018.06.25-Wolfe.pdf</td>\n",
       "      <td>http://sharkattackfile.net/spreadsheets/pdf_directory/2018.06.25-Wolfe.pdf</td>\n",
       "      <td>2018.06.25</td>\n",
       "      <td>2018.06.25</td>\n",
       "      <td>6303.0</td>\n",
       "      <td>NaN</td>\n",
       "      <td>NaN</td>\n",
       "    </tr>\n",
       "    <tr>\n",
       "      <th>1</th>\n",
       "      <td>2018.06.18</td>\n",
       "      <td>18-Jun-2018</td>\n",
       "      <td>2018.0</td>\n",
       "      <td>Unprovoked</td>\n",
       "      <td>USA</td>\n",
       "      <td>Georgia</td>\n",
       "      <td>St. Simon Island, Glynn County</td>\n",
       "      <td>Standing</td>\n",
       "      <td>Adyson McNeely</td>\n",
       "      <td>F</td>\n",
       "      <td>11</td>\n",
       "      <td>Minor injury to left thigh</td>\n",
       "      <td>N</td>\n",
       "      <td>14h00  -15h00</td>\n",
       "      <td>NaN</td>\n",
       "      <td>K.McMurray, TrackingSharks.com</td>\n",
       "      <td>2018.06.18-McNeely.pdf</td>\n",
       "      <td>http://sharkattackfile.net/spreadsheets/pdf_directory/2018.06.18-McNeely.pdf</td>\n",
       "      <td>http://sharkattackfile.net/spreadsheets/pdf_directory/2018.06.18-McNeely.pdf</td>\n",
       "      <td>2018.06.18</td>\n",
       "      <td>2018.06.18</td>\n",
       "      <td>6302.0</td>\n",
       "      <td>NaN</td>\n",
       "      <td>NaN</td>\n",
       "    </tr>\n",
       "    <tr>\n",
       "      <th>2</th>\n",
       "      <td>2018.06.09</td>\n",
       "      <td>09-Jun-2018</td>\n",
       "      <td>2018.0</td>\n",
       "      <td>Invalid</td>\n",
       "      <td>USA</td>\n",
       "      <td>Hawaii</td>\n",
       "      <td>Habush, Oahu</td>\n",
       "      <td>Surfing</td>\n",
       "      <td>John Denges</td>\n",
       "      <td>M</td>\n",
       "      <td>48</td>\n",
       "      <td>Injury to left lower leg from surfboard skeg</td>\n",
       "      <td>N</td>\n",
       "      <td>07h45</td>\n",
       "      <td>NaN</td>\n",
       "      <td>K.McMurray, TrackingSharks.com</td>\n",
       "      <td>2018.06.09-Denges.pdf</td>\n",
       "      <td>http://sharkattackfile.net/spreadsheets/pdf_directory/2018.06.09-Denges.pdf</td>\n",
       "      <td>http://sharkattackfile.net/spreadsheets/pdf_directory/2018.06.09-Denges.pdf</td>\n",
       "      <td>2018.06.09</td>\n",
       "      <td>2018.06.09</td>\n",
       "      <td>6301.0</td>\n",
       "      <td>NaN</td>\n",
       "      <td>NaN</td>\n",
       "    </tr>\n",
       "    <tr>\n",
       "      <th>3</th>\n",
       "      <td>2018.06.08</td>\n",
       "      <td>08-Jun-2018</td>\n",
       "      <td>2018.0</td>\n",
       "      <td>Unprovoked</td>\n",
       "      <td>AUSTRALIA</td>\n",
       "      <td>New South Wales</td>\n",
       "      <td>Arrawarra Headland</td>\n",
       "      <td>Surfing</td>\n",
       "      <td>male</td>\n",
       "      <td>M</td>\n",
       "      <td>NaN</td>\n",
       "      <td>Minor injury to lower leg</td>\n",
       "      <td>N</td>\n",
       "      <td>NaN</td>\n",
       "      <td>2 m shark</td>\n",
       "      <td>B. Myatt, GSAF</td>\n",
       "      <td>2018.06.08-Arrawarra.pdf</td>\n",
       "      <td>http://sharkattackfile.net/spreadsheets/pdf_directory/2018.06.08-Arrawarra.pdf</td>\n",
       "      <td>http://sharkattackfile.net/spreadsheets/pdf_directory/2018.06.08-Arrawarra.pdf</td>\n",
       "      <td>2018.06.08</td>\n",
       "      <td>2018.06.08</td>\n",
       "      <td>6300.0</td>\n",
       "      <td>NaN</td>\n",
       "      <td>NaN</td>\n",
       "    </tr>\n",
       "    <tr>\n",
       "      <th>4</th>\n",
       "      <td>2018.06.04</td>\n",
       "      <td>04-Jun-2018</td>\n",
       "      <td>2018.0</td>\n",
       "      <td>Provoked</td>\n",
       "      <td>MEXICO</td>\n",
       "      <td>Colima</td>\n",
       "      <td>La Ticla</td>\n",
       "      <td>Free diving</td>\n",
       "      <td>Gustavo Ramos</td>\n",
       "      <td>M</td>\n",
       "      <td>NaN</td>\n",
       "      <td>Lacerations to leg &amp; hand shark PROVOKED INCIDENT</td>\n",
       "      <td>N</td>\n",
       "      <td>NaN</td>\n",
       "      <td>Tiger shark, 3m</td>\n",
       "      <td>A .Kipper</td>\n",
       "      <td>2018.06.04-Ramos.pdf</td>\n",
       "      <td>http://sharkattackfile.net/spreadsheets/pdf_directory/2018.06.04-Ramos.pdf</td>\n",
       "      <td>http://sharkattackfile.net/spreadsheets/pdf_directory/2018.06.04-Ramos.pdf</td>\n",
       "      <td>2018.06.04</td>\n",
       "      <td>2018.06.04</td>\n",
       "      <td>6299.0</td>\n",
       "      <td>NaN</td>\n",
       "      <td>NaN</td>\n",
       "    </tr>\n",
       "  </tbody>\n",
       "</table>\n",
       "</div>"
      ],
      "text/plain": [
       "  Case Number         Date    Year        Type    Country             Area  \\\n",
       "0  2018.06.25  25-Jun-2018  2018.0     Boating        USA       California   \n",
       "1  2018.06.18  18-Jun-2018  2018.0  Unprovoked        USA          Georgia   \n",
       "2  2018.06.09  09-Jun-2018  2018.0     Invalid        USA           Hawaii   \n",
       "3  2018.06.08  08-Jun-2018  2018.0  Unprovoked  AUSTRALIA  New South Wales   \n",
       "4  2018.06.04  04-Jun-2018  2018.0    Provoked     MEXICO           Colima   \n",
       "\n",
       "                         Location     Activity             Name Sex   Age  \\\n",
       "0     Oceanside, San Diego County     Paddling      Julie Wolfe    F   57   \n",
       "1  St. Simon Island, Glynn County     Standing  Adyson McNeely     F   11   \n",
       "2                    Habush, Oahu      Surfing      John Denges    M   48   \n",
       "3              Arrawarra Headland      Surfing             male    M  NaN   \n",
       "4                        La Ticla  Free diving   Gustavo Ramos     M  NaN   \n",
       "\n",
       "                                                      Injury Fatal (Y/N)  \\\n",
       "0  No injury to occupant, outrigger canoe and paddle damaged           N   \n",
       "1                                 Minor injury to left thigh           N   \n",
       "2               Injury to left lower leg from surfboard skeg           N   \n",
       "3                                  Minor injury to lower leg           N   \n",
       "4          Lacerations to leg & hand shark PROVOKED INCIDENT           N   \n",
       "\n",
       "            Time         Species           Investigator or Source  \\\n",
       "0          18h00      White shark                R. Collier, GSAF   \n",
       "1  14h00  -15h00              NaN  K.McMurray, TrackingSharks.com   \n",
       "2          07h45              NaN  K.McMurray, TrackingSharks.com   \n",
       "3            NaN        2 m shark                  B. Myatt, GSAF   \n",
       "4            NaN  Tiger shark, 3m                       A .Kipper   \n",
       "\n",
       "                        pdf  \\\n",
       "0      2018.06.25-Wolfe.pdf   \n",
       "1    2018.06.18-McNeely.pdf   \n",
       "2     2018.06.09-Denges.pdf   \n",
       "3  2018.06.08-Arrawarra.pdf   \n",
       "4      2018.06.04-Ramos.pdf   \n",
       "\n",
       "                                                                     href formula  \\\n",
       "0      http://sharkattackfile.net/spreadsheets/pdf_directory/2018.06.25-Wolfe.pdf   \n",
       "1    http://sharkattackfile.net/spreadsheets/pdf_directory/2018.06.18-McNeely.pdf   \n",
       "2     http://sharkattackfile.net/spreadsheets/pdf_directory/2018.06.09-Denges.pdf   \n",
       "3  http://sharkattackfile.net/spreadsheets/pdf_directory/2018.06.08-Arrawarra.pdf   \n",
       "4      http://sharkattackfile.net/spreadsheets/pdf_directory/2018.06.04-Ramos.pdf   \n",
       "\n",
       "                                                                             href  \\\n",
       "0      http://sharkattackfile.net/spreadsheets/pdf_directory/2018.06.25-Wolfe.pdf   \n",
       "1    http://sharkattackfile.net/spreadsheets/pdf_directory/2018.06.18-McNeely.pdf   \n",
       "2     http://sharkattackfile.net/spreadsheets/pdf_directory/2018.06.09-Denges.pdf   \n",
       "3  http://sharkattackfile.net/spreadsheets/pdf_directory/2018.06.08-Arrawarra.pdf   \n",
       "4      http://sharkattackfile.net/spreadsheets/pdf_directory/2018.06.04-Ramos.pdf   \n",
       "\n",
       "  Case Number.1 Case Number.2  original order Unnamed: 22 Unnamed: 23  \n",
       "0    2018.06.25    2018.06.25          6303.0         NaN         NaN  \n",
       "1    2018.06.18    2018.06.18          6302.0         NaN         NaN  \n",
       "2    2018.06.09    2018.06.09          6301.0         NaN         NaN  \n",
       "3    2018.06.08    2018.06.08          6300.0         NaN         NaN  \n",
       "4    2018.06.04    2018.06.04          6299.0         NaN         NaN  "
      ]
     },
     "execution_count": 33,
     "metadata": {},
     "output_type": "execute_result"
    }
   ],
   "source": [
    "df = pd.read_csv(\"C:/Users/luiso/IRONHACK/Sharks_Project_1/attacks.csv\", encoding='latin-1')\n",
    "df.head()"
   ]
  },
  {
   "cell_type": "markdown",
   "metadata": {},
   "source": [
    "Observamos que los datos no están en un estado aceptable para poder crear hipótesis. Haremos una copia del dataframe y pasaremos a iniciar su limpieza. Periódicamente iremos creando más copias como método de buena praxis y así evitar posibles pérdidas de datos que nos puedan volver a hacer falta."
   ]
  },
  {
   "cell_type": "code",
   "execution_count": 34,
   "metadata": {},
   "outputs": [
    {
     "data": {
      "text/plain": [
       "((25723, 24), (25723, 24))"
      ]
     },
     "execution_count": 34,
     "metadata": {},
     "output_type": "execute_result"
    }
   ],
   "source": [
    "dim_original = df.shape\n",
    "data_sharks = df.copy()\n",
    "data_sharks.shape, dim_original"
   ]
  },
  {
   "cell_type": "markdown",
   "metadata": {},
   "source": [
    "Vamos a ver los tipos de datos que tenemos, los valores no nulos y el numero de filas y columnas. También veremos la suma de los objetos nulos del dataframe."
   ]
  },
  {
   "cell_type": "code",
   "execution_count": 35,
   "metadata": {},
   "outputs": [
    {
     "name": "stdout",
     "output_type": "stream",
     "text": [
      "<class 'pandas.core.frame.DataFrame'>\n",
      "RangeIndex: 25723 entries, 0 to 25722\n",
      "Data columns (total 24 columns):\n",
      " #   Column                  Non-Null Count  Dtype  \n",
      "---  ------                  --------------  -----  \n",
      " 0   Case Number             8702 non-null   object \n",
      " 1   Date                    6302 non-null   object \n",
      " 2   Year                    6300 non-null   float64\n",
      " 3   Type                    6298 non-null   object \n",
      " 4   Country                 6252 non-null   object \n",
      " 5   Area                    5847 non-null   object \n",
      " 6   Location                5762 non-null   object \n",
      " 7   Activity                5758 non-null   object \n",
      " 8   Name                    6092 non-null   object \n",
      " 9   Sex                     5737 non-null   object \n",
      " 10  Age                     3471 non-null   object \n",
      " 11  Injury                  6274 non-null   object \n",
      " 12  Fatal (Y/N)             5763 non-null   object \n",
      " 13  Time                    2948 non-null   object \n",
      " 14  Species                 3464 non-null   object \n",
      " 15  Investigator or Source  6285 non-null   object \n",
      " 16  pdf                     6302 non-null   object \n",
      " 17  href formula            6301 non-null   object \n",
      " 18  href                    6302 non-null   object \n",
      " 19  Case Number.1           6302 non-null   object \n",
      " 20  Case Number.2           6302 non-null   object \n",
      " 21  original order          6309 non-null   float64\n",
      " 22  Unnamed: 22             1 non-null      object \n",
      " 23  Unnamed: 23             2 non-null      object \n",
      "dtypes: float64(2), object(22)\n",
      "memory usage: 4.7+ MB\n"
     ]
    },
    {
     "data": {
      "text/plain": [
       "Case Number               17021\n",
       "Date                      19421\n",
       "Year                      19423\n",
       "Type                      19425\n",
       "Country                   19471\n",
       "Area                      19876\n",
       "Location                  19961\n",
       "Activity                  19965\n",
       "Name                      19631\n",
       "Sex                       19986\n",
       "Age                       22252\n",
       "Injury                    19449\n",
       "Fatal (Y/N)               19960\n",
       "Time                      22775\n",
       "Species                   22259\n",
       "Investigator or Source    19438\n",
       "pdf                       19421\n",
       "href formula              19422\n",
       "href                      19421\n",
       "Case Number.1             19421\n",
       "Case Number.2             19421\n",
       "original order            19414\n",
       "Unnamed: 22               25722\n",
       "Unnamed: 23               25721\n",
       "dtype: int64"
      ]
     },
     "execution_count": 35,
     "metadata": {},
     "output_type": "execute_result"
    }
   ],
   "source": [
    "data_sharks.info()\n",
    "\n",
    "data_sharks.isnull().sum()"
   ]
  },
  {
   "cell_type": "markdown",
   "metadata": {},
   "source": [
    "Ahora sí que podemos empezar con el data cleansing. Vamos a empezar por limpiarlo y dejarlo listo para poder trabajar con él:\n",
    "\n",
    "1. Observaremos el estado de las etiquetas de las columnas "
   ]
  },
  {
   "cell_type": "code",
   "execution_count": 36,
   "metadata": {},
   "outputs": [
    {
     "data": {
      "text/plain": [
       "Index(['Case Number', 'Date', 'Year', 'Type', 'Country', 'Area', 'Location',\n",
       "       'Activity', 'Name', 'Sex ', 'Age', 'Injury', 'Fatal (Y/N)', 'Time',\n",
       "       'Species ', 'Investigator or Source', 'pdf', 'href formula', 'href',\n",
       "       'Case Number.1', 'Case Number.2', 'original order', 'Unnamed: 22',\n",
       "       'Unnamed: 23'],\n",
       "      dtype='object')"
      ]
     },
     "execution_count": 36,
     "metadata": {},
     "output_type": "execute_result"
    }
   ],
   "source": [
    "data_sharks.columns"
   ]
  },
  {
   "cell_type": "markdown",
   "metadata": {},
   "source": [
    "2. Carecen de cualquier tipo de homogeneidad, así que los unificaremos todos en minúsculas, quitando espacios y puntuaciones."
   ]
  },
  {
   "cell_type": "code",
   "execution_count": 37,
   "metadata": {},
   "outputs": [
    {
     "data": {
      "text/plain": [
       "Index(['case_number', 'date', 'year', 'type', 'country', 'area', 'location',\n",
       "       'activity', 'name', 'sex', 'age', 'injury', 'fatal_(y/n)', 'time',\n",
       "       'species', 'investigator_or_source', 'pdf', 'href_formula', 'href',\n",
       "       'case_number_1', 'case_number_2', 'original_order', 'unnamed_22',\n",
       "       'unnamed_23'],\n",
       "      dtype='object')"
      ]
     },
     "execution_count": 37,
     "metadata": {},
     "output_type": "execute_result"
    }
   ],
   "source": [
    "# Nombre de las columnas del dataframe limpiados\n",
    "\n",
    "coln = [c.strip().replace(\".\",\"_\").replace(\" \",\"_\").replace(\":\",\"\").lower() for c in data_sharks.columns]\n",
    "\n",
    "data_sharks.columns = coln\n",
    "data_sharks.columns"
   ]
  },
  {
   "cell_type": "markdown",
   "metadata": {},
   "source": [
    "3. Se convertirán los str que contengan las filas también a letra minúscula a través de map y lambda. "
   ]
  },
  {
   "cell_type": "code",
   "execution_count": 38,
   "metadata": {},
   "outputs": [
    {
     "data": {
      "text/html": [
       "<div>\n",
       "<style scoped>\n",
       "    .dataframe tbody tr th:only-of-type {\n",
       "        vertical-align: middle;\n",
       "    }\n",
       "\n",
       "    .dataframe tbody tr th {\n",
       "        vertical-align: top;\n",
       "    }\n",
       "\n",
       "    .dataframe thead th {\n",
       "        text-align: right;\n",
       "    }\n",
       "</style>\n",
       "<table border=\"1\" class=\"dataframe\">\n",
       "  <thead>\n",
       "    <tr style=\"text-align: right;\">\n",
       "      <th></th>\n",
       "      <th>case_number</th>\n",
       "      <th>date</th>\n",
       "      <th>year</th>\n",
       "      <th>type</th>\n",
       "      <th>country</th>\n",
       "      <th>area</th>\n",
       "      <th>location</th>\n",
       "      <th>activity</th>\n",
       "      <th>name</th>\n",
       "      <th>sex</th>\n",
       "      <th>age</th>\n",
       "      <th>injury</th>\n",
       "      <th>fatal_(y/n)</th>\n",
       "      <th>time</th>\n",
       "      <th>species</th>\n",
       "      <th>investigator_or_source</th>\n",
       "      <th>pdf</th>\n",
       "      <th>href_formula</th>\n",
       "      <th>href</th>\n",
       "      <th>case_number_1</th>\n",
       "      <th>case_number_2</th>\n",
       "      <th>original_order</th>\n",
       "      <th>unnamed_22</th>\n",
       "      <th>unnamed_23</th>\n",
       "    </tr>\n",
       "  </thead>\n",
       "  <tbody>\n",
       "    <tr>\n",
       "      <th>0</th>\n",
       "      <td>2018.06.25</td>\n",
       "      <td>25-jun-2018</td>\n",
       "      <td>2018.0</td>\n",
       "      <td>boating</td>\n",
       "      <td>usa</td>\n",
       "      <td>california</td>\n",
       "      <td>oceanside, san diego county</td>\n",
       "      <td>paddling</td>\n",
       "      <td>julie wolfe</td>\n",
       "      <td>f</td>\n",
       "      <td>57</td>\n",
       "      <td>no injury to occupant, outrigger canoe and paddle damaged</td>\n",
       "      <td>n</td>\n",
       "      <td>18h00</td>\n",
       "      <td>white shark</td>\n",
       "      <td>r. collier, gsaf</td>\n",
       "      <td>2018.06.25-wolfe.pdf</td>\n",
       "      <td>http://sharkattackfile.net/spreadsheets/pdf_directory/2018.06.25-wolfe.pdf</td>\n",
       "      <td>http://sharkattackfile.net/spreadsheets/pdf_directory/2018.06.25-wolfe.pdf</td>\n",
       "      <td>2018.06.25</td>\n",
       "      <td>2018.06.25</td>\n",
       "      <td>6303.0</td>\n",
       "      <td>NaN</td>\n",
       "      <td>NaN</td>\n",
       "    </tr>\n",
       "    <tr>\n",
       "      <th>1</th>\n",
       "      <td>2018.06.18</td>\n",
       "      <td>18-jun-2018</td>\n",
       "      <td>2018.0</td>\n",
       "      <td>unprovoked</td>\n",
       "      <td>usa</td>\n",
       "      <td>georgia</td>\n",
       "      <td>st. simon island, glynn county</td>\n",
       "      <td>standing</td>\n",
       "      <td>adyson mcneely</td>\n",
       "      <td>f</td>\n",
       "      <td>11</td>\n",
       "      <td>minor injury to left thigh</td>\n",
       "      <td>n</td>\n",
       "      <td>14h00  -15h00</td>\n",
       "      <td>NaN</td>\n",
       "      <td>k.mcmurray, trackingsharks.com</td>\n",
       "      <td>2018.06.18-mcneely.pdf</td>\n",
       "      <td>http://sharkattackfile.net/spreadsheets/pdf_directory/2018.06.18-mcneely.pdf</td>\n",
       "      <td>http://sharkattackfile.net/spreadsheets/pdf_directory/2018.06.18-mcneely.pdf</td>\n",
       "      <td>2018.06.18</td>\n",
       "      <td>2018.06.18</td>\n",
       "      <td>6302.0</td>\n",
       "      <td>NaN</td>\n",
       "      <td>NaN</td>\n",
       "    </tr>\n",
       "    <tr>\n",
       "      <th>2</th>\n",
       "      <td>2018.06.09</td>\n",
       "      <td>09-jun-2018</td>\n",
       "      <td>2018.0</td>\n",
       "      <td>invalid</td>\n",
       "      <td>usa</td>\n",
       "      <td>hawaii</td>\n",
       "      <td>habush, oahu</td>\n",
       "      <td>surfing</td>\n",
       "      <td>john denges</td>\n",
       "      <td>m</td>\n",
       "      <td>48</td>\n",
       "      <td>injury to left lower leg from surfboard skeg</td>\n",
       "      <td>n</td>\n",
       "      <td>07h45</td>\n",
       "      <td>NaN</td>\n",
       "      <td>k.mcmurray, trackingsharks.com</td>\n",
       "      <td>2018.06.09-denges.pdf</td>\n",
       "      <td>http://sharkattackfile.net/spreadsheets/pdf_directory/2018.06.09-denges.pdf</td>\n",
       "      <td>http://sharkattackfile.net/spreadsheets/pdf_directory/2018.06.09-denges.pdf</td>\n",
       "      <td>2018.06.09</td>\n",
       "      <td>2018.06.09</td>\n",
       "      <td>6301.0</td>\n",
       "      <td>NaN</td>\n",
       "      <td>NaN</td>\n",
       "    </tr>\n",
       "    <tr>\n",
       "      <th>3</th>\n",
       "      <td>2018.06.08</td>\n",
       "      <td>08-jun-2018</td>\n",
       "      <td>2018.0</td>\n",
       "      <td>unprovoked</td>\n",
       "      <td>australia</td>\n",
       "      <td>new south wales</td>\n",
       "      <td>arrawarra headland</td>\n",
       "      <td>surfing</td>\n",
       "      <td>male</td>\n",
       "      <td>m</td>\n",
       "      <td>NaN</td>\n",
       "      <td>minor injury to lower leg</td>\n",
       "      <td>n</td>\n",
       "      <td>NaN</td>\n",
       "      <td>2 m shark</td>\n",
       "      <td>b. myatt, gsaf</td>\n",
       "      <td>2018.06.08-arrawarra.pdf</td>\n",
       "      <td>http://sharkattackfile.net/spreadsheets/pdf_directory/2018.06.08-arrawarra.pdf</td>\n",
       "      <td>http://sharkattackfile.net/spreadsheets/pdf_directory/2018.06.08-arrawarra.pdf</td>\n",
       "      <td>2018.06.08</td>\n",
       "      <td>2018.06.08</td>\n",
       "      <td>6300.0</td>\n",
       "      <td>NaN</td>\n",
       "      <td>NaN</td>\n",
       "    </tr>\n",
       "    <tr>\n",
       "      <th>4</th>\n",
       "      <td>2018.06.04</td>\n",
       "      <td>04-jun-2018</td>\n",
       "      <td>2018.0</td>\n",
       "      <td>provoked</td>\n",
       "      <td>mexico</td>\n",
       "      <td>colima</td>\n",
       "      <td>la ticla</td>\n",
       "      <td>free diving</td>\n",
       "      <td>gustavo ramos</td>\n",
       "      <td>m</td>\n",
       "      <td>NaN</td>\n",
       "      <td>lacerations to leg &amp; hand shark provoked incident</td>\n",
       "      <td>n</td>\n",
       "      <td>NaN</td>\n",
       "      <td>tiger shark, 3m</td>\n",
       "      <td>a .kipper</td>\n",
       "      <td>2018.06.04-ramos.pdf</td>\n",
       "      <td>http://sharkattackfile.net/spreadsheets/pdf_directory/2018.06.04-ramos.pdf</td>\n",
       "      <td>http://sharkattackfile.net/spreadsheets/pdf_directory/2018.06.04-ramos.pdf</td>\n",
       "      <td>2018.06.04</td>\n",
       "      <td>2018.06.04</td>\n",
       "      <td>6299.0</td>\n",
       "      <td>NaN</td>\n",
       "      <td>NaN</td>\n",
       "    </tr>\n",
       "  </tbody>\n",
       "</table>\n",
       "</div>"
      ],
      "text/plain": [
       "  case_number         date    year        type    country             area  \\\n",
       "0  2018.06.25  25-jun-2018  2018.0     boating        usa       california   \n",
       "1  2018.06.18  18-jun-2018  2018.0  unprovoked        usa          georgia   \n",
       "2  2018.06.09  09-jun-2018  2018.0     invalid        usa           hawaii   \n",
       "3  2018.06.08  08-jun-2018  2018.0  unprovoked  australia  new south wales   \n",
       "4  2018.06.04  04-jun-2018  2018.0    provoked     mexico           colima   \n",
       "\n",
       "                         location     activity            name sex  age  \\\n",
       "0     oceanside, san diego county     paddling     julie wolfe   f   57   \n",
       "1  st. simon island, glynn county     standing  adyson mcneely   f   11   \n",
       "2                    habush, oahu      surfing     john denges   m   48   \n",
       "3              arrawarra headland      surfing            male   m  NaN   \n",
       "4                        la ticla  free diving   gustavo ramos   m  NaN   \n",
       "\n",
       "                                                      injury fatal_(y/n)  \\\n",
       "0  no injury to occupant, outrigger canoe and paddle damaged           n   \n",
       "1                                 minor injury to left thigh           n   \n",
       "2               injury to left lower leg from surfboard skeg           n   \n",
       "3                                  minor injury to lower leg           n   \n",
       "4          lacerations to leg & hand shark provoked incident           n   \n",
       "\n",
       "            time          species          investigator_or_source  \\\n",
       "0          18h00      white shark                r. collier, gsaf   \n",
       "1  14h00  -15h00              NaN  k.mcmurray, trackingsharks.com   \n",
       "2          07h45              NaN  k.mcmurray, trackingsharks.com   \n",
       "3            NaN        2 m shark                  b. myatt, gsaf   \n",
       "4            NaN  tiger shark, 3m                       a .kipper   \n",
       "\n",
       "                        pdf  \\\n",
       "0      2018.06.25-wolfe.pdf   \n",
       "1    2018.06.18-mcneely.pdf   \n",
       "2     2018.06.09-denges.pdf   \n",
       "3  2018.06.08-arrawarra.pdf   \n",
       "4      2018.06.04-ramos.pdf   \n",
       "\n",
       "                                                                     href_formula  \\\n",
       "0      http://sharkattackfile.net/spreadsheets/pdf_directory/2018.06.25-wolfe.pdf   \n",
       "1    http://sharkattackfile.net/spreadsheets/pdf_directory/2018.06.18-mcneely.pdf   \n",
       "2     http://sharkattackfile.net/spreadsheets/pdf_directory/2018.06.09-denges.pdf   \n",
       "3  http://sharkattackfile.net/spreadsheets/pdf_directory/2018.06.08-arrawarra.pdf   \n",
       "4      http://sharkattackfile.net/spreadsheets/pdf_directory/2018.06.04-ramos.pdf   \n",
       "\n",
       "                                                                             href  \\\n",
       "0      http://sharkattackfile.net/spreadsheets/pdf_directory/2018.06.25-wolfe.pdf   \n",
       "1    http://sharkattackfile.net/spreadsheets/pdf_directory/2018.06.18-mcneely.pdf   \n",
       "2     http://sharkattackfile.net/spreadsheets/pdf_directory/2018.06.09-denges.pdf   \n",
       "3  http://sharkattackfile.net/spreadsheets/pdf_directory/2018.06.08-arrawarra.pdf   \n",
       "4      http://sharkattackfile.net/spreadsheets/pdf_directory/2018.06.04-ramos.pdf   \n",
       "\n",
       "  case_number_1 case_number_2  original_order unnamed_22 unnamed_23  \n",
       "0    2018.06.25    2018.06.25          6303.0        NaN        NaN  \n",
       "1    2018.06.18    2018.06.18          6302.0        NaN        NaN  \n",
       "2    2018.06.09    2018.06.09          6301.0        NaN        NaN  \n",
       "3    2018.06.08    2018.06.08          6300.0        NaN        NaN  \n",
       "4    2018.06.04    2018.06.04          6299.0        NaN        NaN  "
      ]
     },
     "execution_count": 38,
     "metadata": {},
     "output_type": "execute_result"
    }
   ],
   "source": [
    "data_sharks2 = data_sharks.applymap(lambda x: x.strip().lower() if isinstance(x, str) else x)\n",
    "\n",
    "data_sharks2.head()"
   ]
  },
  {
   "cell_type": "markdown",
   "metadata": {},
   "source": [
    "4. Es el momento de ver la cantidad de valores duplicados y eliminarlos."
   ]
  },
  {
   "cell_type": "code",
   "execution_count": 39,
   "metadata": {},
   "outputs": [
    {
     "data": {
      "text/plain": [
       "19411"
      ]
     },
     "execution_count": 39,
     "metadata": {},
     "output_type": "execute_result"
    }
   ],
   "source": [
    "# Cantidad de valores duplicados    \n",
    "\n",
    "data_sharks2.duplicated().sum()\n"
   ]
  },
  {
   "cell_type": "code",
   "execution_count": 40,
   "metadata": {},
   "outputs": [
    {
     "data": {
      "text/plain": [
       "((6312, 24), (25723, 24))"
      ]
     },
     "execution_count": 40,
     "metadata": {},
     "output_type": "execute_result"
    }
   ],
   "source": [
    "# Eliminamos los valores duplicados\n",
    "\n",
    "data_sharks3 = data_sharks2.drop_duplicates()\n",
    "\n",
    "# Comprobamos que se han eliminado los duplicados\n",
    "\n",
    "data_sharks3.shape, data_sharks2.shape\n"
   ]
  },
  {
   "cell_type": "markdown",
   "metadata": {},
   "source": [
    "5. Tras realizar una reducción drástica del número de filas, volveremos a chequear el total de NaN en cada columna."
   ]
  },
  {
   "cell_type": "code",
   "execution_count": 41,
   "metadata": {},
   "outputs": [
    {
     "data": {
      "text/plain": [
       "case_number                  2\n",
       "date                        10\n",
       "year                        12\n",
       "type                        14\n",
       "country                     60\n",
       "area                       465\n",
       "location                   550\n",
       "activity                   554\n",
       "name                       220\n",
       "sex                        575\n",
       "age                       2841\n",
       "injury                      38\n",
       "fatal_(y/n)                549\n",
       "time                      3364\n",
       "species                   2848\n",
       "investigator_or_source      27\n",
       "pdf                         10\n",
       "href_formula                11\n",
       "href                        10\n",
       "case_number_1               10\n",
       "case_number_2               10\n",
       "original_order               3\n",
       "unnamed_22                6311\n",
       "unnamed_23                6310\n",
       "dtype: int64"
      ]
     },
     "execution_count": 41,
     "metadata": {},
     "output_type": "execute_result"
    }
   ],
   "source": [
    "nan_cols = data_sharks3.isna().sum()\n",
    "\n",
    "nan_cols[nan_cols > 0]"
   ]
  },
  {
   "cell_type": "markdown",
   "metadata": {},
   "source": [
    "6. Quitamos las filas que tengan mas del 50% de NaN ya que no podremos hacer nada con ellas y no es significativo."
   ]
  },
  {
   "cell_type": "code",
   "execution_count": 42,
   "metadata": {},
   "outputs": [
    {
     "data": {
      "text/plain": [
       "((6302, 24), (6312, 24))"
      ]
     },
     "execution_count": 42,
     "metadata": {},
     "output_type": "execute_result"
    }
   ],
   "source": [
    "data_sharks4 = data_sharks3.dropna(thresh = data_sharks3.shape[1]*0.5)\n",
    "\n",
    "# Comprobamos que se han eliminado las filas con mas del 50% de NaN\n",
    "\n",
    "data_sharks4.shape, data_sharks3.shape "
   ]
  },
  {
   "cell_type": "markdown",
   "metadata": {},
   "source": [
    "7. Iremos finalizando la limpieza de datos centrándonos en las columnas en las que nos vamos a centrar para elaborar nuestra posterior hipótesis. Primero pasaremos a la columna \"year\" "
   ]
  },
  {
   "cell_type": "code",
   "execution_count": 43,
   "metadata": {},
   "outputs": [
    {
     "data": {
      "text/html": [
       "<div>\n",
       "<style scoped>\n",
       "    .dataframe tbody tr th:only-of-type {\n",
       "        vertical-align: middle;\n",
       "    }\n",
       "\n",
       "    .dataframe tbody tr th {\n",
       "        vertical-align: top;\n",
       "    }\n",
       "\n",
       "    .dataframe thead th {\n",
       "        text-align: right;\n",
       "    }\n",
       "</style>\n",
       "<table border=\"1\" class=\"dataframe\">\n",
       "  <thead>\n",
       "    <tr style=\"text-align: right;\">\n",
       "      <th></th>\n",
       "      <th>case_number</th>\n",
       "      <th>date</th>\n",
       "      <th>year</th>\n",
       "      <th>type</th>\n",
       "      <th>country</th>\n",
       "      <th>area</th>\n",
       "      <th>location</th>\n",
       "      <th>activity</th>\n",
       "      <th>name</th>\n",
       "      <th>sex</th>\n",
       "      <th>age</th>\n",
       "      <th>injury</th>\n",
       "      <th>fatal_(y/n)</th>\n",
       "      <th>time</th>\n",
       "      <th>species</th>\n",
       "      <th>investigator_or_source</th>\n",
       "      <th>pdf</th>\n",
       "      <th>href_formula</th>\n",
       "      <th>href</th>\n",
       "      <th>case_number_1</th>\n",
       "      <th>case_number_2</th>\n",
       "      <th>original_order</th>\n",
       "      <th>unnamed_22</th>\n",
       "      <th>unnamed_23</th>\n",
       "    </tr>\n",
       "  </thead>\n",
       "  <tbody>\n",
       "    <tr>\n",
       "      <th>187</th>\n",
       "      <td>2017.01.08.r</td>\n",
       "      <td>reported 08-jan-2017</td>\n",
       "      <td>NaN</td>\n",
       "      <td>invalid</td>\n",
       "      <td>australia</td>\n",
       "      <td>queensland</td>\n",
       "      <td>NaN</td>\n",
       "      <td>spearfishing</td>\n",
       "      <td>kerry daniel</td>\n",
       "      <td>m</td>\n",
       "      <td>35</td>\n",
       "      <td>no attack, shark made a threat display</td>\n",
       "      <td>NaN</td>\n",
       "      <td>NaN</td>\n",
       "      <td>bull shark</td>\n",
       "      <td>liquid vision 1/8/2017</td>\n",
       "      <td>2017.01.08.r-kerrydaniel.pdf</td>\n",
       "      <td>http://sharkattackfile.net/spreadsheets/pdf_directory/2017.01.08.r-kerrydaniel.pdf</td>\n",
       "      <td>http://sharkattackfile.net/spreadsheets/pdf_directory/2017.01.08.r-kerrydaniel.pdf</td>\n",
       "      <td>2017.01.08.r</td>\n",
       "      <td>2017.01.08.r</td>\n",
       "      <td>6116.0</td>\n",
       "      <td>NaN</td>\n",
       "      <td>NaN</td>\n",
       "    </tr>\n",
       "    <tr>\n",
       "      <th>6079</th>\n",
       "      <td>1836.08.19.r</td>\n",
       "      <td>reported 19-aug-1836</td>\n",
       "      <td>NaN</td>\n",
       "      <td>unprovoked</td>\n",
       "      <td>england</td>\n",
       "      <td>cumberland</td>\n",
       "      <td>whitehaven</td>\n",
       "      <td>swimming</td>\n",
       "      <td>a boy</td>\n",
       "      <td>m</td>\n",
       "      <td>NaN</td>\n",
       "      <td>fatal</td>\n",
       "      <td>y</td>\n",
       "      <td>NaN</td>\n",
       "      <td>NaN</td>\n",
       "      <td>c. moore, gsaf</td>\n",
       "      <td>1835.08.19.r-whitehaven.pdf</td>\n",
       "      <td>http://sharkattackfile.net/spreadsheets/pdf_directory/1835.08.19.r-whitehaven.pdf</td>\n",
       "      <td>http://sharkattackfile.net/spreadsheets/pdf_directory/1835.08.19.r-whitehaven.pdf</td>\n",
       "      <td>1836.08.19.r</td>\n",
       "      <td>1836.08.19.r</td>\n",
       "      <td>224.0</td>\n",
       "      <td>NaN</td>\n",
       "      <td>NaN</td>\n",
       "    </tr>\n",
       "  </tbody>\n",
       "</table>\n",
       "</div>"
      ],
      "text/plain": [
       "       case_number                  date  year        type    country  \\\n",
       "187   2017.01.08.r  reported 08-jan-2017   NaN     invalid  australia   \n",
       "6079  1836.08.19.r  reported 19-aug-1836   NaN  unprovoked    england   \n",
       "\n",
       "            area    location      activity          name sex  age  \\\n",
       "187   queensland         NaN  spearfishing  kerry daniel   m   35   \n",
       "6079  cumberland  whitehaven      swimming         a boy   m  NaN   \n",
       "\n",
       "                                      injury fatal_(y/n) time     species  \\\n",
       "187   no attack, shark made a threat display         NaN  NaN  bull shark   \n",
       "6079                                   fatal           y  NaN         NaN   \n",
       "\n",
       "      investigator_or_source                           pdf  \\\n",
       "187   liquid vision 1/8/2017  2017.01.08.r-kerrydaniel.pdf   \n",
       "6079          c. moore, gsaf   1835.08.19.r-whitehaven.pdf   \n",
       "\n",
       "                                                                            href_formula  \\\n",
       "187   http://sharkattackfile.net/spreadsheets/pdf_directory/2017.01.08.r-kerrydaniel.pdf   \n",
       "6079   http://sharkattackfile.net/spreadsheets/pdf_directory/1835.08.19.r-whitehaven.pdf   \n",
       "\n",
       "                                                                                    href  \\\n",
       "187   http://sharkattackfile.net/spreadsheets/pdf_directory/2017.01.08.r-kerrydaniel.pdf   \n",
       "6079   http://sharkattackfile.net/spreadsheets/pdf_directory/1835.08.19.r-whitehaven.pdf   \n",
       "\n",
       "     case_number_1 case_number_2  original_order unnamed_22 unnamed_23  \n",
       "187   2017.01.08.r  2017.01.08.r          6116.0        NaN        NaN  \n",
       "6079  1836.08.19.r  1836.08.19.r           224.0        NaN        NaN  "
      ]
     },
     "execution_count": 43,
     "metadata": {},
     "output_type": "execute_result"
    }
   ],
   "source": [
    "# Encontar los valores nulos en la columna year\n",
    "\n",
    "data_sharks4[data_sharks4[\"year\"].isnull()]\n",
    "\n"
   ]
  },
  {
   "cell_type": "code",
   "execution_count": 44,
   "metadata": {},
   "outputs": [
    {
     "data": {
      "text/plain": [
       "((6300, 24), (6302, 24))"
      ]
     },
     "execution_count": 44,
     "metadata": {},
     "output_type": "execute_result"
    }
   ],
   "source": [
    "#Son solo dos filas a eliminar las que contienen NaN en la dicha columna\n",
    "\n",
    "data_sharks5 = data_sharks4.dropna(subset=[\"year\"])\n",
    "\n",
    "# Comprobamos que se han eliminado las filas con NaN en la columna year\n",
    "\n",
    "data_sharks5.shape, data_sharks4.shape "
   ]
  },
  {
   "cell_type": "markdown",
   "metadata": {},
   "source": [
    "8. Daremos un vistazo rápido al uso de la memoria del dataframe y ver si podemos optimizarla."
   ]
  },
  {
   "cell_type": "code",
   "execution_count": 45,
   "metadata": {},
   "outputs": [
    {
     "name": "stdout",
     "output_type": "stream",
     "text": [
      "<class 'pandas.core.frame.DataFrame'>\n",
      "Int64Index: 6300 entries, 0 to 6301\n",
      "Data columns (total 24 columns):\n",
      " #   Column                  Non-Null Count  Dtype  \n",
      "---  ------                  --------------  -----  \n",
      " 0   case_number             6299 non-null   object \n",
      " 1   date                    6300 non-null   object \n",
      " 2   year                    6300 non-null   float64\n",
      " 3   type                    6296 non-null   object \n",
      " 4   country                 6250 non-null   object \n",
      " 5   area                    5845 non-null   object \n",
      " 6   location                5761 non-null   object \n",
      " 7   activity                5756 non-null   object \n",
      " 8   name                    6090 non-null   object \n",
      " 9   sex                     5735 non-null   object \n",
      " 10  age                     3470 non-null   object \n",
      " 11  injury                  6272 non-null   object \n",
      " 12  fatal_(y/n)             5762 non-null   object \n",
      " 13  time                    2948 non-null   object \n",
      " 14  species                 3463 non-null   object \n",
      " 15  investigator_or_source  6283 non-null   object \n",
      " 16  pdf                     6300 non-null   object \n",
      " 17  href_formula            6299 non-null   object \n",
      " 18  href                    6300 non-null   object \n",
      " 19  case_number_1           6300 non-null   object \n",
      " 20  case_number_2           6300 non-null   object \n",
      " 21  original_order          6300 non-null   float64\n",
      " 22  unnamed_22              1 non-null      object \n",
      " 23  unnamed_23              2 non-null      object \n",
      "dtypes: float64(2), object(22)\n",
      "memory usage: 9.4 MB\n"
     ]
    }
   ],
   "source": [
    "data_sharks5.info(memory_usage='deep')"
   ]
  },
  {
   "cell_type": "markdown",
   "metadata": {},
   "source": [
    "9. Para las columnas \"year\" y \"original_order\" el tipo de dato es un float, así que procederemos a cambiarlo a int para liberar memoria."
   ]
  },
  {
   "cell_type": "code",
   "execution_count": 46,
   "metadata": {},
   "outputs": [
    {
     "name": "stdout",
     "output_type": "stream",
     "text": [
      "<class 'pandas.core.frame.DataFrame'>\n",
      "Int64Index: 6300 entries, 0 to 6301\n",
      "Data columns (total 24 columns):\n",
      " #   Column                  Non-Null Count  Dtype \n",
      "---  ------                  --------------  ----- \n",
      " 0   case_number             6299 non-null   object\n",
      " 1   date                    6300 non-null   object\n",
      " 2   year                    6300 non-null   int32 \n",
      " 3   type                    6296 non-null   object\n",
      " 4   country                 6250 non-null   object\n",
      " 5   area                    5845 non-null   object\n",
      " 6   location                5761 non-null   object\n",
      " 7   activity                5756 non-null   object\n",
      " 8   name                    6090 non-null   object\n",
      " 9   sex                     5735 non-null   object\n",
      " 10  age                     3470 non-null   object\n",
      " 11  injury                  6272 non-null   object\n",
      " 12  fatal_(y/n)             5762 non-null   object\n",
      " 13  time                    2948 non-null   object\n",
      " 14  species                 3463 non-null   object\n",
      " 15  investigator_or_source  6283 non-null   object\n",
      " 16  pdf                     6300 non-null   object\n",
      " 17  href_formula            6299 non-null   object\n",
      " 18  href                    6300 non-null   object\n",
      " 19  case_number_1           6300 non-null   object\n",
      " 20  case_number_2           6300 non-null   object\n",
      " 21  original_order          6300 non-null   int32 \n",
      " 22  unnamed_22              1 non-null      object\n",
      " 23  unnamed_23              2 non-null      object\n",
      "dtypes: int32(2), object(22)\n",
      "memory usage: 9.3 MB\n"
     ]
    },
    {
     "name": "stderr",
     "output_type": "stream",
     "text": [
      "C:\\Users\\luiso\\AppData\\Local\\Temp\\ipykernel_17676\\3676388961.py:1: SettingWithCopyWarning:\n",
      "\n",
      "\n",
      "A value is trying to be set on a copy of a slice from a DataFrame.\n",
      "Try using .loc[row_indexer,col_indexer] = value instead\n",
      "\n",
      "See the caveats in the documentation: https://pandas.pydata.org/pandas-docs/stable/user_guide/indexing.html#returning-a-view-versus-a-copy\n",
      "\n"
     ]
    }
   ],
   "source": [
    "data_sharks5[[\"year\",\"original_order\"]] = data_sharks5[[\"year\",\"original_order\"]].astype(int) \n",
    "\n",
    "data_sharks5.info(memory_usage='deep')"
   ]
  },
  {
   "cell_type": "markdown",
   "metadata": {},
   "source": [
    "10. Ahora le toca el momento a las columna \"sex\",\"age\",\"country\". Eliminaremos los valores NaN por su escasa utilidad para realizar nuestra labor analítica, ya que nos interesa tener los generos male y female y las edades concretas. Además, muchos de ellos se refieren a ataques grupales."
   ]
  },
  {
   "cell_type": "code",
   "execution_count": 47,
   "metadata": {},
   "outputs": [
    {
     "data": {
      "text/plain": [
       "((3423, 24), (6300, 24))"
      ]
     },
     "execution_count": 47,
     "metadata": {},
     "output_type": "execute_result"
    }
   ],
   "source": [
    "data_sharks6 = data_sharks5.dropna(subset=['sex','age','country'])\n",
    "\n",
    "# Testeamos la reducción de filas\n",
    "\n",
    "data_sharks6.shape, data_sharks5.shape"
   ]
  },
  {
   "cell_type": "markdown",
   "metadata": {},
   "source": [
    "11. Acabaremos con el data cleansing depurando con funciones, ordenando y renombrando las columnas necesarias para nuestra labor analítica. "
   ]
  },
  {
   "cell_type": "code",
   "execution_count": 48,
   "metadata": {},
   "outputs": [
    {
     "name": "stderr",
     "output_type": "stream",
     "text": [
      "C:\\Users\\luiso\\AppData\\Local\\Temp\\ipykernel_17676\\887629714.py:3: SettingWithCopyWarning:\n",
      "\n",
      "\n",
      "A value is trying to be set on a copy of a slice from a DataFrame\n",
      "\n",
      "See the caveats in the documentation: https://pandas.pydata.org/pandas-docs/stable/user_guide/indexing.html#returning-a-view-versus-a-copy\n",
      "\n"
     ]
    }
   ],
   "source": [
    "# Renombramos la columna fatal_(y/n) por fatal\n",
    "\n",
    "data_sharks6.rename(columns={\"fatal_(y/n)\":\"fatal\"}, inplace=True)\n"
   ]
  },
  {
   "cell_type": "code",
   "execution_count": 49,
   "metadata": {},
   "outputs": [
    {
     "name": "stderr",
     "output_type": "stream",
     "text": [
      "C:\\Users\\luiso\\AppData\\Local\\Temp\\ipykernel_17676\\735661600.py:13: SettingWithCopyWarning:\n",
      "\n",
      "\n",
      "A value is trying to be set on a copy of a slice from a DataFrame.\n",
      "Try using .loc[row_indexer,col_indexer] = value instead\n",
      "\n",
      "See the caveats in the documentation: https://pandas.pydata.org/pandas-docs/stable/user_guide/indexing.html#returning-a-view-versus-a-copy\n",
      "\n"
     ]
    }
   ],
   "source": [
    "data_sharks6[\"sex\"].value_counts()\n",
    "\n",
    "# Creamos una función para eliminar los valores que no sean M o F\n",
    "\n",
    "def sex(x):\n",
    "    if x == \"m\":\n",
    "        return \"m\"\n",
    "    elif x == \"f\":\n",
    "        return \"f\"\n",
    "    else:\n",
    "        return np.nan\n",
    "\n",
    "data_sharks6[\"sex\"] = data_sharks6[\"sex\"].apply(sex)"
   ]
  },
  {
   "cell_type": "code",
   "execution_count": 50,
   "metadata": {},
   "outputs": [
    {
     "data": {
      "text/plain": [
       "m    2960\n",
       "f     462\n",
       "Name: sex, dtype: int64"
      ]
     },
     "execution_count": 50,
     "metadata": {},
     "output_type": "execute_result"
    }
   ],
   "source": [
    "data_sharks6[\"sex\"].value_counts()"
   ]
  },
  {
   "cell_type": "code",
   "execution_count": 51,
   "metadata": {},
   "outputs": [
    {
     "data": {
      "text/plain": [
       "17                         152\n",
       "18                         148\n",
       "19                         140\n",
       "20                         139\n",
       "15                         137\n",
       "16                         136\n",
       "21                         117\n",
       "22                         115\n",
       "25                         106\n",
       "24                         102\n",
       "14                          99\n",
       "13                          91\n",
       "26                          83\n",
       "23                          80\n",
       "28                          80\n",
       "29                          78\n",
       "27                          77\n",
       "30                          76\n",
       "12                          73\n",
       "35                          68\n",
       "32                          68\n",
       "10                          56\n",
       "40                          56\n",
       "31                          51\n",
       "34                          50\n",
       "38                          48\n",
       "43                          44\n",
       "33                          44\n",
       "36                          42\n",
       "37                          42\n",
       "42                          38\n",
       "11                          37\n",
       "39                          37\n",
       "41                          37\n",
       "52                          35\n",
       "9                           35\n",
       "45                          33\n",
       "50                          33\n",
       "47                          30\n",
       "49                          28\n",
       "44                          28\n",
       "48                          28\n",
       "46                          27\n",
       "8                           27\n",
       "55                          23\n",
       "7                           22\n",
       "51                          20\n",
       "54                          17\n",
       "58                          15\n",
       "57                          15\n",
       "60                          15\n",
       "teen                        14\n",
       "6                           14\n",
       "53                          13\n",
       "61                          13\n",
       "59                          11\n",
       "69                          10\n",
       "56                          10\n",
       "63                           9\n",
       "62                           8\n",
       "68                           7\n",
       "20s                          7\n",
       "30s                          7\n",
       "5                            7\n",
       "70                           6\n",
       "65                           5\n",
       "64                           4\n",
       "66                           4\n",
       "3                            4\n",
       "                             4\n",
       "40s                          3\n",
       "71                           3\n",
       "73                           3\n",
       "77                           3\n",
       "1                            2\n",
       "75                           2\n",
       "7 or 8                       2\n",
       "8 or 10                      2\n",
       "young                        2\n",
       "78                           2\n",
       "74                           2\n",
       "50s                          2\n",
       "a.m.                         1\n",
       "\"middle-age\"                 1\n",
       "25 to 35                     1\n",
       "23 & 26                      1\n",
       "2½                           1\n",
       "(adult)                      1\n",
       "33 & 37                      1\n",
       "25 or 28                     1\n",
       "37, 67, 35, 27,  ? & 27      1\n",
       "21, 34,24 & 35               1\n",
       "30 & 32                      1\n",
       "17 & 35                      1\n",
       "x                            1\n",
       "34 & 19                      1\n",
       "13 or 18                     1\n",
       "36 & 23                      1\n",
       "33 & 26                      1\n",
       "31 or 33                     1\n",
       "81                           1\n",
       "\"young\"                      1\n",
       "10 or 12                     1\n",
       "? & 19                       1\n",
       "f                            1\n",
       "both 11                      1\n",
       "9 or 10                      1\n",
       "?    &   14                  1\n",
       "9 months                     1\n",
       "elderly                      1\n",
       "adult                        1\n",
       "18 to 22                     1\n",
       "60s                          1\n",
       "18 months                    1\n",
       "82                           1\n",
       "28 & 26                      1\n",
       "86                           1\n",
       "18 or 20                     1\n",
       "12 or 13                     1\n",
       "46 & 34                      1\n",
       "28, 23 & 30                  1\n",
       "teens                        1\n",
       "84                           1\n",
       "30 or 36                     1\n",
       "6½                           1\n",
       "21 & ?                       1\n",
       "33 or 37                     1\n",
       "mid-30s                      1\n",
       "23 & 20                      1\n",
       "7      &    31               1\n",
       "20?                          1\n",
       "60's                         1\n",
       "32 & 30                      1\n",
       "16 to 18                     1\n",
       "87                           1\n",
       "67                           1\n",
       "72                           1\n",
       "mid-20s                      1\n",
       "ca. 33                       1\n",
       "21 or 26                     1\n",
       ">50                          1\n",
       "13 or 14                     1\n",
       "Name: age, dtype: int64"
      ]
     },
     "execution_count": 51,
     "metadata": {},
     "output_type": "execute_result"
    }
   ],
   "source": [
    "data_sharks6[\"age\"].value_counts()"
   ]
  },
  {
   "cell_type": "code",
   "execution_count": 52,
   "metadata": {},
   "outputs": [
    {
     "name": "stderr",
     "output_type": "stream",
     "text": [
      "C:\\Users\\luiso\\AppData\\Local\\Temp\\ipykernel_17676\\1008620587.py:9: SettingWithCopyWarning:\n",
      "\n",
      "\n",
      "A value is trying to be set on a copy of a slice from a DataFrame.\n",
      "Try using .loc[row_indexer,col_indexer] = value instead\n",
      "\n",
      "See the caveats in the documentation: https://pandas.pydata.org/pandas-docs/stable/user_guide/indexing.html#returning-a-view-versus-a-copy\n",
      "\n"
     ]
    }
   ],
   "source": [
    "# crear una funcion para eliminar los valores que no sean numéricos de la columna age\n",
    "\n",
    "def age(x):\n",
    "    if x.isdigit():\n",
    "        return int(x)\n",
    "    else:\n",
    "        return np.nan\n",
    "\n",
    "data_sharks6[\"age\"] = data_sharks6[\"age\"].apply(age)"
   ]
  },
  {
   "cell_type": "code",
   "execution_count": 91,
   "metadata": {},
   "outputs": [
    {
     "name": "stderr",
     "output_type": "stream",
     "text": [
      "C:\\Users\\luiso\\AppData\\Local\\Temp\\ipykernel_17676\\2081404367.py:3: SettingWithCopyWarning:\n",
      "\n",
      "\n",
      "A value is trying to be set on a copy of a slice from a DataFrame.\n",
      "Try using .loc[row_indexer,col_indexer] = value instead\n",
      "\n",
      "See the caveats in the documentation: https://pandas.pydata.org/pandas-docs/stable/user_guide/indexing.html#returning-a-view-versus-a-copy\n",
      "\n"
     ]
    },
    {
     "data": {
      "text/plain": [
       "17.0    152\n",
       "18.0    148\n",
       "19.0    140\n",
       "20.0    139\n",
       "15.0    137\n",
       "16.0    136\n",
       "21.0    117\n",
       "22.0    115\n",
       "25.0    106\n",
       "24.0    102\n",
       "14.0     99\n",
       "13.0     91\n",
       "26.0     83\n",
       "28.0     80\n",
       "23.0     80\n",
       "29.0     78\n",
       "27.0     77\n",
       "30.0     76\n",
       "12.0     73\n",
       "35.0     68\n",
       "32.0     68\n",
       "40.0     56\n",
       "10.0     56\n",
       "31.0     51\n",
       "34.0     50\n",
       "38.0     48\n",
       "33.0     44\n",
       "43.0     44\n",
       "37.0     42\n",
       "36.0     42\n",
       "42.0     38\n",
       "39.0     37\n",
       "11.0     37\n",
       "41.0     37\n",
       "52.0     35\n",
       "9.0      35\n",
       "45.0     33\n",
       "50.0     33\n",
       "47.0     30\n",
       "44.0     28\n",
       "48.0     28\n",
       "49.0     28\n",
       "8.0      27\n",
       "46.0     27\n",
       "55.0     23\n",
       "7.0      22\n",
       "51.0     20\n",
       "54.0     17\n",
       "60.0     15\n",
       "57.0     15\n",
       "58.0     15\n",
       "6.0      14\n",
       "53.0     13\n",
       "61.0     13\n",
       "59.0     11\n",
       "69.0     10\n",
       "56.0     10\n",
       "63.0      9\n",
       "62.0      8\n",
       "5.0       7\n",
       "68.0      7\n",
       "70.0      6\n",
       "65.0      5\n",
       "64.0      4\n",
       "66.0      4\n",
       "3.0       4\n",
       "73.0      3\n",
       "77.0      3\n",
       "71.0      3\n",
       "75.0      2\n",
       "74.0      2\n",
       "1.0       2\n",
       "78.0      2\n",
       "72.0      1\n",
       "82.0      1\n",
       "84.0      1\n",
       "86.0      1\n",
       "87.0      1\n",
       "67.0      1\n",
       "81.0      1\n",
       "Name: age, dtype: int64"
      ]
     },
     "execution_count": 91,
     "metadata": {},
     "output_type": "execute_result"
    }
   ],
   "source": [
    "# Ordenamos los valores de la columna age de mayor a menor\n",
    "\n",
    "data_sharks6[\"age\"] = sorted(data_sharks6[\"age\"], reverse=True) \n",
    "\n",
    "data_sharks6[\"age\"].value_counts()\n",
    "\n"
   ]
  },
  {
   "cell_type": "markdown",
   "metadata": {},
   "source": [
    "Comenzamos con el análisis del dataframe completamente limpio!"
   ]
  },
  {
   "cell_type": "markdown",
   "metadata": {},
   "source": [
    "PRIMERA HIPÓTESIS: \"Los ataques de tiburón son menos mortales a hombres que a mujeres\". Para ello vamos a comparar el porcentaje de ataques mortales para hombres y mujeres del total de ataques"
   ]
  },
  {
   "cell_type": "code",
   "execution_count": 92,
   "metadata": {},
   "outputs": [],
   "source": [
    "# Filtrar los datos para ataques mortales y no mortales\n",
    "ataques_mortales = data_sharks6[data_sharks6['fatal'] == 'y']\n",
    "ataques_no_mortales = data_sharks6[data_sharks6['fatal'] == 'n']"
   ]
  },
  {
   "cell_type": "code",
   "execution_count": 95,
   "metadata": {},
   "outputs": [
    {
     "data": {
      "text/plain": [
       "Text(0.5, 0, 'Sexo')"
      ]
     },
     "execution_count": 95,
     "metadata": {},
     "output_type": "execute_result"
    },
    {
     "data": {
      "image/png": "[encoded data removed]",
      "text/plain": [
       "<Figure size 1000x500 with 1 Axes>"
      ]
     },
     "metadata": {},
     "output_type": "display_data"
    }
   ],
   "source": [
    "# Calcular el total de ataques (mortales y no mortales) para hombres y mujeres\n",
    "total_ataques_hombres = data_sharks6[data_sharks6['sex'] == 'm']['fatal'].count()\n",
    "total_ataques_mujeres = data_sharks6[data_sharks6['sex'] == 'f']['fatal'].count()\n",
    "\n",
    "# Mostrar resultados con una gráfica de barras\n",
    "plt.figure(figsize=(10,5))\n",
    "plt.bar(['Hombres', 'Mujeres'], [total_ataques_hombres, total_ataques_mujeres])\n",
    "plt.title('Total de ataques por sexo')\n",
    "plt.xlabel('Sexo')\n"
   ]
  },
  {
   "cell_type": "code",
   "execution_count": 94,
   "metadata": {},
   "outputs": [
    {
     "data": {
      "text/plain": [
       "Text(0.5, 0, 'Sexo')"
      ]
     },
     "execution_count": 94,
     "metadata": {},
     "output_type": "execute_result"
    },
    {
     "data": {
      "image/png": "[encoded data removed]",
      "text/plain": [
       "<Figure size 1000x500 with 1 Axes>"
      ]
     },
     "metadata": {},
     "output_type": "display_data"
    }
   ],
   "source": [
    "# Calcular el total de ataques mortales para hombres y mujeres\n",
    "total_hombres_mortales = ataques_mortales[ataques_mortales['sex'] == 'm']['fatal'].count()\n",
    "total_mujeres_mortales = ataques_mortales[ataques_mortales['sex'] == 'f']['fatal'].count()\n",
    "\n",
    "# Mostrar resultados resultados con una gráfica\n",
    "plt.figure(figsize=(10,5))\n",
    "plt.bar(['Hombres', 'Mujeres'], [total_hombres_mortales, total_mujeres_mortales])\n",
    "plt.title('Total de ataques mortales por sexo') \n",
    "plt.xlabel('Sexo')"
   ]
  },
  {
   "cell_type": "code",
   "execution_count": 96,
   "metadata": {},
   "outputs": [
    {
     "data": {
      "text/plain": [
       "Text(0.5, 1.0, 'Porcentaje de Ataques Mortales por Género')"
      ]
     },
     "execution_count": 96,
     "metadata": {},
     "output_type": "execute_result"
    },
    {
     "data": {
      "image/png": "[encoded data removed]",
      "text/plain": [
       "<Figure size 640x480 with 1 Axes>"
      ]
     },
     "metadata": {},
     "output_type": "display_data"
    }
   ],
   "source": [
    "# Calcular el porcentaje de ataques mortales para hombres y mujeres\n",
    "porcentaje_hombres = (total_hombres_mortales / total_ataques_hombres) * 100\n",
    "porcentaje_mujeres = (total_mujeres_mortales / total_ataques_mujeres) * 100\n",
    "\n",
    "# Crear una lista de géneros y una lista de porcentajes\n",
    "generos = ['Hombre', 'Mujer']\n",
    "porcentajes = [porcentaje_hombres, porcentaje_mujeres]\n",
    "\n",
    "# Crear la gráfica de barras\n",
    "plt.bar(generos, porcentajes, color=['blue', 'red'])\n",
    "plt.xlabel('Género')\n",
    "plt.ylabel('Porcentaje de Ataques Mortales')\n",
    "plt.title('Porcentaje de Ataques Mortales por Género')\n"
   ]
  },
  {
   "cell_type": "markdown",
   "metadata": {},
   "source": [
    "CONCLUSIONES:\n",
    "\n",
    "- Nuestra idea queda relativamente refutada. A pesar de que el porcentaje de mortalidad es mayor en el género masculino, hay que tener en cuenta que el total de casos de ataques de tiburón es 5 veces mayor.\n",
    "- Un análisis de los casos a través del tiempo hubiera sido más certero."
   ]
  },
  {
   "cell_type": "markdown",
   "metadata": {},
   "source": [
    "SEGUNDA HIPÓTESIS: \"Los ataques mortales a hombres de entre 20 y 30 años son menos letales que a los que están entre los 40 y 60 años\". Para ello vamos a comparar el porcentaje de ataques mortales entre los dos rangos de edad establecidos."
   ]
  },
  {
   "cell_type": "code",
   "execution_count": 98,
   "metadata": {},
   "outputs": [
    {
     "data": {
      "text/plain": [
       "Text(0.5, 0, 'Edad')"
      ]
     },
     "execution_count": 98,
     "metadata": {},
     "output_type": "execute_result"
    },
    {
     "data": {
      "image/png": "[encoded data removed]",
      "text/plain": [
       "<Figure size 1000x500 with 1 Axes>"
      ]
     },
     "metadata": {},
     "output_type": "display_data"
    }
   ],
   "source": [
    "# ataques totales a hombres de 20-30 años\n",
    "ataques_totales_hombres_20_30 = data_sharks6[(data_sharks6['sex'] == 'm') & (data_sharks6['age'] >= 20) & (data_sharks6['age'] <= 30) & (data_sharks6['fatal'])]\n",
    "# ataques totales a hombres de 40-60 años\n",
    "ataques_totales_hombres_40_60 = data_sharks6[(data_sharks6['sex'] == 'm') & (data_sharks6['age'] >= 40) & (data_sharks6['age'] <= 60) & (data_sharks6['fatal'])]\n",
    "# Mostrar los resultados con una gráfica de barras\n",
    "plt.figure(figsize=(10,5))\n",
    "plt.bar(['20-30', '40-60'], [ataques_totales_hombres_20_30['fatal'].count(), ataques_totales_hombres_40_60['fatal'].count()])\n",
    "plt.title('Total de ataques a hombres por edad')\n",
    "plt.xlabel('Edad')\n"
   ]
  },
  {
   "cell_type": "code",
   "execution_count": 99,
   "metadata": {},
   "outputs": [
    {
     "data": {
      "text/plain": [
       "Text(0.5, 0, 'Edad')"
      ]
     },
     "execution_count": 99,
     "metadata": {},
     "output_type": "execute_result"
    },
    {
     "data": {
      "image/png": "[encoded data removed]",
      "text/plain": [
       "<Figure size 1000x500 with 1 Axes>"
      ]
     },
     "metadata": {},
     "output_type": "display_data"
    }
   ],
   "source": [
    "# Filtrar los datos para ataques mortales a hombres de 20-30 años\n",
    "hombres_20_30 = data_sharks6[(data_sharks6['sex'] == 'm') & (data_sharks6['age'] >= 20) & (data_sharks6['age'] <= 30) & (data_sharks6['fatal'] == 'y')]\n",
    "# Filtrar los datos para ataques mortales a hombres de 40-60 años\n",
    "hombres_40_60 = data_sharks6[(data_sharks6['sex'] == 'm') & (data_sharks6['age'] >= 40) & (data_sharks6['age'] <= 60) & (data_sharks6['fatal'] == 'y')]\n",
    "# Mostrar los resultados con una gráfica de barras\n",
    "plt.figure(figsize=(10,5))\n",
    "plt.bar(['20-30', '40-60'], [hombres_20_30['fatal'].count(), hombres_40_60['fatal'].count()])\n",
    "plt.title('Total de ataques mortales a hombres por edad')\n",
    "plt.xlabel('Edad')"
   ]
  },
  {
   "cell_type": "code",
   "execution_count": 100,
   "metadata": {},
   "outputs": [
    {
     "data": {
      "text/plain": [
       "Text(0.5, 1.0, 'Porcentaje de Ataques Mortales entre Grupos de Edad de Hombres')"
      ]
     },
     "execution_count": 100,
     "metadata": {},
     "output_type": "execute_result"
    },
    {
     "data": {
      "image/png": "[encoded data removed]",
      "text/plain": [
       "<Figure size 640x480 with 1 Axes>"
      ]
     },
     "metadata": {},
     "output_type": "display_data"
    }
   ],
   "source": [
    "# Calcular el porcentaje de ataques mortales para hombres de 20-30 años y 40-60 años\n",
    "porcentaje_hombres_20_30 = (hombres_20_30['fatal'].count() / ataques_totales_hombres_20_30['fatal'].count()) * 100\n",
    "porcentaje_hombres_40_60 = (hombres_40_60['fatal'].count() / ataques_totales_hombres_40_60['fatal'].count()) * 100\n",
    "\n",
    "#crear una lista de grupos de edad y una lista de porcentajes\n",
    "grupos_edad = ['20-30', '40-60']\n",
    "porcentajes = [porcentaje_hombres_20_30, porcentaje_hombres_40_60]\n",
    "\n",
    "# Crear la gráfica de barras\n",
    "plt.bar(grupos_edad, porcentajes, color=['blue', 'red'])\n",
    "plt.xlabel('Grupo de Edad')\n",
    "plt.ylabel('Porcentaje de Ataques Mortales')\n",
    "plt.title('Porcentaje de Ataques Mortales entre Grupos de Edad de Hombres')\n"
   ]
  },
  {
   "cell_type": "markdown",
   "metadata": {},
   "source": [
    "CONCLUSIONES:\n",
    "- Volvimos a caer en una idea errónea al realizar la hipótesis de que los hombres en edad más avanzada serían los más damnificados por el ataque de un escualo.\n",
    "- Aunque no hay que olvidar que la franja de edad de 20-30 suma el doble de casos de ataques que la de 40-60."
   ]
  },
  {
   "cell_type": "markdown",
   "metadata": {},
   "source": [
    "Exportamos el nuevo dataframe y damos por finalizado nuestro primer análisis de datos a través del método de data cleansing"
   ]
  },
  {
   "cell_type": "code",
   "execution_count": 101,
   "metadata": {},
   "outputs": [],
   "source": [
    "# Exportar el dataframe limpio a un archivo csv\n",
    "\n",
    "attacks_clean = data_sharks6.to_csv(\"C:/Users/luiso/IRONHACK/Sharks_Project_1/attacks_clean.csv\", index=False)"
   ]
  }
 ],
 "metadata": {
  "kernelspec": {
   "display_name": "base",
   "language": "python",
   "name": "python3"
  },
  "language_info": {
   "codemirror_mode": {
    "name": "ipython",
    "version": 3
   },
   "file_extension": ".py",
   "mimetype": "text/x-python",
   "name": "python",
   "nbconvert_exporter": "python",
   "pygments_lexer": "ipython3",
   "version": "3.10.9"
  }
 },
 "nbformat": 4,
 "nbformat_minor": 2
}
